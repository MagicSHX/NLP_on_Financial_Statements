{
 "cells": [
  {
   "cell_type": "markdown",
   "source": [
    "# Project 5: NLP on Financial Statements\n",
    "## Instructions\n",
    "Each problem consists of a function to implement and instructions on how to implement the function.  The parts of the function that need to be implemented are marked with a `# TODO` comment. After implementing the function, run the cell to test it against the unit tests we've provided. For each problem, we provide one or more unit tests from our `project_tests` package. These unit tests won't tell you if your answer is correct, but will warn you of any major errors. Your code will be checked for the correct solution when you submit it to Udacity.\n",
    "\n",
    "## Packages\n",
    "When you implement the functions, you'll only need to you use the packages you've used in the classroom, like [Pandas](https://pandas.pydata.org/) and [Numpy](http://www.numpy.org/). These packages will be imported for you. We recommend you don't add any import statements, otherwise the grader might not be able to run your code.\n",
    "\n",
    "The other packages that we're importing are `project_helper` and `project_tests`. These are custom packages built to help you solve the problems.  The `project_helper` module contains utility functions and graph functions. The `project_tests` contains the unit tests for all the problems.\n",
    "\n",
    "### Install Packages"
   ],
   "metadata": {}
  },
  {
   "cell_type": "code",
   "execution_count": 1,
   "source": [
    "import sys\n",
    "#!{sys.executable} -m pip install -r requirements.txt"
   ],
   "outputs": [],
   "metadata": {}
  },
  {
   "cell_type": "markdown",
   "source": [
    "### Load Packages"
   ],
   "metadata": {}
  },
  {
   "cell_type": "code",
   "execution_count": 2,
   "source": [
    "import nltk\n",
    "import numpy as np\n",
    "import pandas as pd\n",
    "import pickle\n",
    "import pprint\n",
    "import csv\n",
    "import ast\n",
    "\n",
    "import project_helper\n",
    "import project_tests\n",
    "\n",
    "from tqdm import tqdm\n",
    "from bs4 import BeautifulSoup\n",
    "from collections import defaultdict"
   ],
   "outputs": [],
   "metadata": {}
  },
  {
   "cell_type": "markdown",
   "source": [
    "### Download NLP Corpora\n",
    "You'll need two corpora to run this project: the stopwords corpus for removing stopwords and wordnet for lemmatizing."
   ],
   "metadata": {}
  },
  {
   "cell_type": "code",
   "execution_count": 3,
   "source": [
    "nltk.download('stopwords')\n",
    "nltk.download('wordnet')"
   ],
   "outputs": [
    {
     "output_type": "stream",
     "name": "stderr",
     "text": [
      "[nltk_data] Downloading package stopwords to\n",
      "[nltk_data]     /Users/shaohongxu/nltk_data...\n",
      "[nltk_data]   Package stopwords is already up-to-date!\n",
      "[nltk_data] Downloading package wordnet to\n",
      "[nltk_data]     /Users/shaohongxu/nltk_data...\n",
      "[nltk_data]   Package wordnet is already up-to-date!\n"
     ]
    },
    {
     "output_type": "execute_result",
     "data": {
      "text/plain": [
       "True"
      ]
     },
     "metadata": {},
     "execution_count": 3
    }
   ],
   "metadata": {}
  },
  {
   "cell_type": "markdown",
   "source": [
    "## Get 10ks\n",
    "We'll be running NLP analysis on 10-k documents. To do that, we first need to download the documents. For this project, we'll download 10-ks for a few companies. To lookup documents for these companies, we'll use their CIK. If you would like to run this against other stocks, we've provided the dict `additional_cik` for more stocks. However, the more stocks you try, the long it will take to run."
   ],
   "metadata": {}
  },
  {
   "cell_type": "code",
   "execution_count": 4,
   "source": [
    "cik_lookup = {\n",
    "    'AMZN': '0001018724',\n",
    "    'BMY': '0000014272',   \n",
    "    'CNP': '0001130310',\n",
    "    'CVX': '0000093410',\n",
    "    'FL': '0000850209',\n",
    "    'FRT': '0000034903',\n",
    "    'HON': '0000773840'}\n",
    "\n",
    "additional_cik = {\n",
    "    'AEP': '0000004904',\n",
    "    'AXP': '0000004962',\n",
    "    'BA': '0000012927', \n",
    "    'BK': '0001390777',\n",
    "    'CAT': '0000018230',\n",
    "    'DE': '0000315189',\n",
    "    'DIS': '0001001039',\n",
    "    'DTE': '0000936340',\n",
    "    'ED': '0001047862',\n",
    "    'EMR': '0000032604',\n",
    "    'ETN': '0001551182',\n",
    "    'GE': '0000040545',\n",
    "    'IBM': '0000051143',\n",
    "    'IP': '0000051434',\n",
    "    'JNJ': '0000200406',\n",
    "    'KO': '0000021344',\n",
    "    'LLY': '0000059478',\n",
    "    'MCD': '0000063908',\n",
    "    'MO': '0000764180',\n",
    "    'MRK': '0000310158',\n",
    "    'MRO': '0000101778',\n",
    "    'PCG': '0001004980',\n",
    "    'PEP': '0000077476',\n",
    "    'PFE': '0000078003',\n",
    "    'PG': '0000080424',\n",
    "    'PNR': '0000077360',\n",
    "    'SYY': '0000096021',\n",
    "    'TXN': '0000097476',\n",
    "    'UTX': '0000101829',\n",
    "    'WFC': '0000072971',\n",
    "    'WMT': '0000104169',\n",
    "    'WY': '0000106535',\n",
    "    'XOM': '0000034088'}"
   ],
   "outputs": [],
   "metadata": {}
  },
  {
   "cell_type": "markdown",
   "source": [
    "### Get list of 10-ks\n",
    "The SEC has a limit on the number of calls you can make to the website per second. In order to avoid hiding that limit, we've created the `SecAPI` class. This will cache data from the SEC and prevent you from going over the limit."
   ],
   "metadata": {}
  },
  {
   "cell_type": "code",
   "execution_count": 5,
   "source": [
    "sec_api = project_helper.SecAPI()"
   ],
   "outputs": [],
   "metadata": {}
  },
  {
   "cell_type": "markdown",
   "source": [
    "With the class constructed, let's pull a list of filled 10-ks from the SEC for each company."
   ],
   "metadata": {}
  },
  {
   "cell_type": "markdown",
   "source": [
    "### Option 1: download `Stock RSS URL` from SEC website\n",
    "\n",
    "**Important note: SEC EDGAR recently restricts the rate limit to prevent too many API requests from its website within a short period of time.** \n",
    "\n",
    "You are free to use the commented-out codes below to download small data size from SEC website. For this project, however, please go to the next step (option 2) to upload data from a csv file."
   ],
   "metadata": {}
  },
  {
   "cell_type": "code",
   "execution_count": 6,
   "source": [
    "# def get_sec_data(cik, doc_type, start=0, count=60):\n",
    "#     newest_pricing_data = pd.to_datetime('2018-01-01')\n",
    "#     rss_url = 'https://www.sec.gov/cgi-bin/browse-edgar?action=getcompany' \\\n",
    "#         '&CIK={}&type={}&start={}&count={}&owner=exclude&output=atom' \\\n",
    "#         .format(cik, doc_type, start, count)\n",
    "#     sec_data = sec_api.get(rss_url)\n",
    "#     feed = BeautifulSoup(sec_data.encode('utf-8'), 'xml').feed\n",
    "    \n",
    "#     entries = []\n",
    "    \n",
    "#     for entry in feed.find_all('entry', recursive=False):\n",
    "#         if pd.to_datetime(entry.content.find('filing-date').getText()) <= newest_pricing_data:\n",
    "#             entries.append((entry.content.find('filing-href').getText(),\n",
    "#                             entry.content.find('filing-type').getText(),\n",
    "#                             entry.content.find('filing-date').getText()))\n",
    "\n",
    "#     return entries"
   ],
   "outputs": [],
   "metadata": {}
  },
  {
   "cell_type": "markdown",
   "source": [
    "Let's pull the list using the `get_sec_data` function, then display some of the results. For displaying some of the data, we'll use Amazon as an example. "
   ],
   "metadata": {}
  },
  {
   "cell_type": "code",
   "execution_count": 7,
   "source": [
    "# example_ticker = 'AMZN'\n",
    "# sec_data = {}\n",
    "\n",
    "# for ticker, cik in cik_lookup.items():\n",
    "#     sec_data[ticker] = get_sec_data(cik, '10-K')\n",
    "\n",
    "# pprint.pprint(sec_data[example_ticker][:5])"
   ],
   "outputs": [],
   "metadata": {}
  },
  {
   "cell_type": "markdown",
   "source": [
    "### Option 2: upload `Stock RSS URL` from `csv` file"
   ],
   "metadata": {}
  },
  {
   "cell_type": "code",
   "execution_count": 8,
   "source": [
    "sec_data = {}\n",
    "\n",
    "with open('sec_data.csv', 'r') as f:\n",
    "    reader = csv.reader(f)\n",
    "    for row in reader:\n",
    "        ticker, rss_url = row\n",
    "        sec_data[ticker] = ast.literal_eval(rss_url)"
   ],
   "outputs": [],
   "metadata": {}
  },
  {
   "cell_type": "code",
   "execution_count": 9,
   "source": [
    "example_ticker = 'AMZN'\n",
    "pprint.pprint(sec_data[example_ticker][:5])"
   ],
   "outputs": [
    {
     "output_type": "stream",
     "name": "stdout",
     "text": [
      "[('https://www.sec.gov/Archives/edgar/data/1018724/000101872417000011/0001018724-17-000011-index.htm',\n",
      "  '10-K',\n",
      "  '2017-02-10'),\n",
      " ('https://www.sec.gov/Archives/edgar/data/1018724/000101872416000172/0001018724-16-000172-index.htm',\n",
      "  '10-K',\n",
      "  '2016-01-29'),\n",
      " ('https://www.sec.gov/Archives/edgar/data/1018724/000101872415000006/0001018724-15-000006-index.htm',\n",
      "  '10-K',\n",
      "  '2015-01-30'),\n",
      " ('https://www.sec.gov/Archives/edgar/data/1018724/000101872414000006/0001018724-14-000006-index.htm',\n",
      "  '10-K',\n",
      "  '2014-01-31'),\n",
      " ('https://www.sec.gov/Archives/edgar/data/1018724/000119312513028520/0001193125-13-028520-index.htm',\n",
      "  '10-K',\n",
      "  '2013-01-30')]\n"
     ]
    }
   ],
   "metadata": {}
  },
  {
   "cell_type": "markdown",
   "source": [
    "### Download 10-ks\n",
    "As you see, this is a list of urls. These urls point to a file that contains metadata related to each filling. Since we don't care about the metadata, we'll pull the filling by replacing the url with the filling url."
   ],
   "metadata": {}
  },
  {
   "cell_type": "markdown",
   "source": [
    "### Option 1: download `10-k` data directly from SEC website\n",
    "\n",
    "**Important note: SEC EDGAR website recently restricts the rate limit to prevent too many API requests within a short period of time.**\n",
    "\n",
    "The total 10-k data size to be downloaded from the website is about 1.3Gb. To complete this project, please go to the next cell (option 2) to get the data from a csv file."
   ],
   "metadata": {}
  },
  {
   "cell_type": "code",
   "execution_count": 10,
   "source": [
    "# raw_fillings_by_ticker = {}\n",
    "\n",
    "# for ticker, data in sec_data.items():\n",
    "#     raw_fillings_by_ticker[ticker] = {}\n",
    "#     for index_url, file_type, file_date in tqdm(data, desc='Downloading {} Fillings'.format(ticker), unit='filling'):\n",
    "#         if (file_type == '10-K'):\n",
    "#             file_url = index_url.replace('-index.htm', '.txt').replace('.txtl', '.txt')            \n",
    "            \n",
    "#             raw_fillings_by_ticker[ticker][file_date] = sec_api.get(file_url)\n",
    "\n",
    "\n",
    "# print('Example Document:\\n\\n{}...'.format(next(iter(raw_fillings_by_ticker[example_ticker].values()))[:1000]))"
   ],
   "outputs": [],
   "metadata": {}
  },
  {
   "cell_type": "markdown",
   "source": [
    "### Option 2: get `10-k` data from a `csv` file"
   ],
   "metadata": {}
  },
  {
   "cell_type": "code",
   "execution_count": 11,
   "source": [
    "pd_fillings_by_ticker = {}\n",
    "colnames=['ticker', 'file_date', '10-k'] \n",
    "\n",
    "pd_fillings_by_ticker = pd.read_csv('raw_fillings_by_ticker.csv', \n",
    "                                     header=None, \n",
    "                                     names=colnames)"
   ],
   "outputs": [],
   "metadata": {}
  },
  {
   "cell_type": "code",
   "execution_count": 12,
   "source": [
    "raw_fillings_by_ticker = defaultdict(dict)\n",
    "\n",
    "for i, row in pd_fillings_by_ticker.iterrows():\n",
    "    raw_fillings_by_ticker[row.ticker][row.file_date] = row['10-k']"
   ],
   "outputs": [],
   "metadata": {}
  },
  {
   "cell_type": "code",
   "execution_count": 13,
   "source": [
    "print('Example Document:\\n\\n{}...'.format(next(iter(raw_fillings_by_ticker[example_ticker].values()))[:1000]))"
   ],
   "outputs": [
    {
     "output_type": "stream",
     "name": "stdout",
     "text": [
      "Example Document:\n",
      "\n",
      "<SEC-DOCUMENT>0001018724-17-000011.txt : 20170210\n",
      "<SEC-HEADER>0001018724-17-000011.hdr.sgml : 20170210\n",
      "<ACCEPTANCE-DATETIME>20170209175636\n",
      "ACCESSION NUMBER:\t\t0001018724-17-000011\n",
      "CONFORMED SUBMISSION TYPE:\t10-K\n",
      "PUBLIC DOCUMENT COUNT:\t\t92\n",
      "CONFORMED PERIOD OF REPORT:\t20161231\n",
      "FILED AS OF DATE:\t\t20170210\n",
      "DATE AS OF CHANGE:\t\t20170209\n",
      "\n",
      "FILER:\n",
      "\n",
      "\tCOMPANY DATA:\t\n",
      "\t\tCOMPANY CONFORMED NAME:\t\t\tAMAZON COM INC\n",
      "\t\tCENTRAL INDEX KEY:\t\t\t0001018724\n",
      "\t\tSTANDARD INDUSTRIAL CLASSIFICATION:\tRETAIL-CATALOG & MAIL-ORDER HOUSES [5961]\n",
      "\t\tIRS NUMBER:\t\t\t\t911646860\n",
      "\t\tSTATE OF INCORPORATION:\t\t\tDE\n",
      "\t\tFISCAL YEAR END:\t\t\t1231\n",
      "\n",
      "\tFILING VALUES:\n",
      "\t\tFORM TYPE:\t\t10-K\n",
      "\t\tSEC ACT:\t\t1934 Act\n",
      "\t\tSEC FILE NUMBER:\t000-22513\n",
      "\t\tFILM NUMBER:\t\t17588807\n",
      "\n",
      "\tBUSINESS ADDRESS:\t\n",
      "\t\tSTREET 1:\t\t410 TERRY AVENUE NORTH\n",
      "\t\tCITY:\t\t\tSEATTLE\n",
      "\t\tSTATE:\t\t\tWA\n",
      "\t\tZIP:\t\t\t98109\n",
      "\t\tBUSINESS PHONE:\t\t2062661000\n",
      "\n",
      "\tMAIL ADDRESS:\t\n",
      "\t\tSTREET 1:\t\t410 TERRY AVENUE NORTH\n",
      "\t\tCITY:\t\t\tSEATTLE\n",
      "\t\tSTATE:\t\t\tWA\n",
      "\t\tZIP:\t\t\t98109\n",
      "</SEC-HEADER>\n",
      "<DOCUMENT>\n",
      "<TYPE>10-K\n",
      "<SEQUENCE>1\n",
      "<FILENAME...\n"
     ]
    }
   ],
   "metadata": {}
  },
  {
   "cell_type": "markdown",
   "source": [
    "### Get Documents\n",
    "With theses fillings downloaded, we want to break them into their associated documents. These documents are sectioned off in the fillings with the tags `<DOCUMENT>` for the start of each document and `</DOCUMENT>` for the end of each document. There's no overlap with these documents, so each `</DOCUMENT>` tag should come after the `<DOCUMENT>` with no `<DOCUMENT>` tag in between.\n",
    "\n",
    "Implement `get_documents` to return a list of these documents from a filling. Make sure not to include the tag in the returned document text."
   ],
   "metadata": {}
  },
  {
   "cell_type": "code",
   "execution_count": 14,
   "source": [
    "import re\n",
    "\n",
    "\n",
    "\n",
    "\n",
    "def get_documents(text):\n",
    "    \"\"\"\n",
    "    Extract the documents from the text\n",
    "\n",
    "    Parameters\n",
    "    ----------\n",
    "    text : str\n",
    "        The text with the document strings inside\n",
    "\n",
    "    Returns\n",
    "    -------\n",
    "    extracted_docs : list of str\n",
    "        The document strings found in `text`\n",
    "    \"\"\"\n",
    "    \n",
    "    # TODO: Implement\n",
    "    doc_start_pattern = re.compile(r'<DOCUMENT>')\n",
    "    doc_end_pattern = re.compile(r'</DOCUMENT>')\n",
    "    #type_pattern = re.compile(r'<TYPE>[^\\n]+')\n",
    "    document = []\n",
    "    # Create a loop to go through each section type and save only the 10-K section in the dictionary\n",
    "    doc_start_is = [x.end() for x in doc_start_pattern.finditer(text)]\n",
    "    doc_end_is = [x.start() for x in doc_end_pattern.finditer(text)]\n",
    "    #doc_types = [x[len('<TYPE>'):] for x in type_pattern.findall(text)]\n",
    "    for doc_start_i, doc_end_i in zip(doc_start_is, doc_end_is):\n",
    "        document.append(text[doc_start_i:doc_end_i])\n",
    "    return document\n",
    "\n",
    "\n",
    "project_tests.test_get_documents(get_documents)"
   ],
   "outputs": [
    {
     "output_type": "stream",
     "name": "stdout",
     "text": [
      "Tests Passed\n"
     ]
    }
   ],
   "metadata": {}
  },
  {
   "cell_type": "markdown",
   "source": [
    "With the `get_documents` function implemented, let's extract all the documents."
   ],
   "metadata": {}
  },
  {
   "cell_type": "code",
   "execution_count": 15,
   "source": [
    "filling_documents_by_ticker = {}\n",
    "\n",
    "for ticker, raw_fillings in raw_fillings_by_ticker.items():\n",
    "    filling_documents_by_ticker[ticker] = {}\n",
    "    for file_date, filling in tqdm(raw_fillings.items(), desc='Getting Documents from {} Fillings'.format(ticker), unit='filling'):\n",
    "        filling_documents_by_ticker[ticker][file_date] = get_documents(filling)\n",
    "\n",
    "\n",
    "print('\\n\\n'.join([\n",
    "    'Document {} Filed on {}:\\n{}...'.format(doc_i, file_date, doc[:200])\n",
    "    for file_date, docs in filling_documents_by_ticker[example_ticker].items()\n",
    "    for doc_i, doc in enumerate(docs)][:3]))"
   ],
   "outputs": [
    {
     "output_type": "stream",
     "name": "stderr",
     "text": [
      "Getting Documents from AMZN Fillings: 100%|██████████| 17/17 [00:00<00:00, 122.72filling/s]\n",
      "Getting Documents from BMY Fillings: 100%|██████████| 23/23 [00:00<00:00, 69.64filling/s]\n",
      "Getting Documents from CNP Fillings: 100%|██████████| 15/15 [00:00<00:00, 60.73filling/s]\n",
      "Getting Documents from CVX Fillings: 100%|██████████| 21/21 [00:00<00:00, 61.31filling/s]\n",
      "Getting Documents from FL Fillings: 100%|██████████| 16/16 [00:00<00:00, 96.74filling/s]\n",
      "Getting Documents from FRT Fillings: 100%|██████████| 19/19 [00:00<00:00, 82.05filling/s]\n",
      "Getting Documents from HON Fillings: 100%|██████████| 20/20 [00:00<00:00, 70.49filling/s]"
     ]
    },
    {
     "output_type": "stream",
     "name": "stdout",
     "text": [
      "Document 0 Filed on 2017-02-10:\n",
      "\n",
      "<TYPE>10-K\n",
      "<SEQUENCE>1\n",
      "<FILENAME>amzn-20161231x10k.htm\n",
      "<DESCRIPTION>FORM 10-K\n",
      "<TEXT>\n",
      "<!DOCTYPE html PUBLIC \"-//W3C//DTD HTML 4.01 Transitional//EN\" \"http://www.w3.org/TR/html4/loose.dtd\">\n",
      "<html>\n",
      "\t<he...\n",
      "\n",
      "Document 1 Filed on 2017-02-10:\n",
      "\n",
      "<TYPE>EX-12.1\n",
      "<SEQUENCE>2\n",
      "<FILENAME>amzn-20161231xex121.htm\n",
      "<DESCRIPTION>COMPUTATION OF RATIO OF EARNINGS TO FIXED CHARGES\n",
      "<TEXT>\n",
      "<!DOCTYPE html PUBLIC \"-//W3C//DTD HTML 4.01 Transitional//EN\" \"http:...\n",
      "\n",
      "Document 2 Filed on 2017-02-10:\n",
      "\n",
      "<TYPE>EX-21.1\n",
      "<SEQUENCE>3\n",
      "<FILENAME>amzn-20161231xex211.htm\n",
      "<DESCRIPTION>LIST OF SIGNIFICANT SUBSIDIARIES\n",
      "<TEXT>\n",
      "<!DOCTYPE html PUBLIC \"-//W3C//DTD HTML 4.01 Transitional//EN\" \"http://www.w3.org/TR/h...\n"
     ]
    },
    {
     "output_type": "stream",
     "name": "stderr",
     "text": [
      "\n"
     ]
    }
   ],
   "metadata": {
    "scrolled": false
   }
  },
  {
   "cell_type": "markdown",
   "source": [
    "### Get Document Types\n",
    "Now that we have all the documents, we want to find the 10-k form in this 10-k filing. Implement the `get_document_type` function to return the type of document given. The document type is located on a line with the `<TYPE>` tag. For example, a form of type \"TEST\" would have the line `<TYPE>TEST`. Make sure to return the type as lowercase, so this example would be returned as \"test\"."
   ],
   "metadata": {}
  },
  {
   "cell_type": "code",
   "execution_count": 16,
   "source": [
    "def get_document_type(doc):\n",
    "    \"\"\"\n",
    "    Return the document type lowercased\n",
    "\n",
    "    Parameters\n",
    "    ----------\n",
    "    doc : str\n",
    "        The document string\n",
    "\n",
    "    Returns\n",
    "    -------\n",
    "    doc_type : str\n",
    "        The document type lowercased\n",
    "    \"\"\"\n",
    "    \n",
    "    # TODO: Implement\n",
    "    type_pattern = re.compile(r'<TYPE>[^\\n]+')\n",
    "    doc_type = type_pattern.findall(doc)[0][len('<TYPE>'):].lower()\n",
    "    return doc_type\n",
    "\n",
    "\n",
    "project_tests.test_get_document_type(get_document_type)"
   ],
   "outputs": [
    {
     "output_type": "stream",
     "name": "stdout",
     "text": [
      "Tests Passed\n"
     ]
    }
   ],
   "metadata": {}
  },
  {
   "cell_type": "markdown",
   "source": [
    "With the `get_document_type` function, we'll filter out all non 10-k documents."
   ],
   "metadata": {}
  },
  {
   "cell_type": "code",
   "execution_count": 17,
   "source": [
    "ten_ks_by_ticker = {}\n",
    "\n",
    "for ticker, filling_documents in filling_documents_by_ticker.items():\n",
    "    ten_ks_by_ticker[ticker] = []\n",
    "    for file_date, documents in filling_documents.items():\n",
    "        for document in documents:\n",
    "            if get_document_type(document) == '10-k':\n",
    "                ten_ks_by_ticker[ticker].append({\n",
    "                    'cik': cik_lookup[ticker],\n",
    "                    'file': document,\n",
    "                    'file_date': file_date})\n",
    "\n",
    "\n",
    "project_helper.print_ten_k_data(ten_ks_by_ticker[example_ticker][:5], ['cik', 'file', 'file_date'])"
   ],
   "outputs": [
    {
     "output_type": "stream",
     "name": "stdout",
     "text": [
      "[\n",
      "  {\n",
      "    cik: '0001018724'\n",
      "    file: '\\n<TYPE>10-K\\n<SEQUENCE>1\\n<FILENAME>amzn-2016123...\n",
      "    file_date: '2017-02-10'},\n",
      "  {\n",
      "    cik: '0001018724'\n",
      "    file: '\\n<TYPE>10-K\\n<SEQUENCE>1\\n<FILENAME>amzn-2015123...\n",
      "    file_date: '2016-01-29'},\n",
      "  {\n",
      "    cik: '0001018724'\n",
      "    file: '\\n<TYPE>10-K\\n<SEQUENCE>1\\n<FILENAME>amzn-2014123...\n",
      "    file_date: '2015-01-30'},\n",
      "  {\n",
      "    cik: '0001018724'\n",
      "    file: '\\n<TYPE>10-K\\n<SEQUENCE>1\\n<FILENAME>amzn-2013123...\n",
      "    file_date: '2014-01-31'},\n",
      "  {\n",
      "    cik: '0001018724'\n",
      "    file: '\\n<TYPE>10-K\\n<SEQUENCE>1\\n<FILENAME>d445434d10k....\n",
      "    file_date: '2013-01-30'},\n",
      "]\n"
     ]
    }
   ],
   "metadata": {}
  },
  {
   "cell_type": "markdown",
   "source": [
    "## Preprocess the Data\n",
    "### Clean Up\n",
    "As you can see, the text for the documents are very messy. To clean this up, we'll remove the html and lowercase all the text."
   ],
   "metadata": {}
  },
  {
   "cell_type": "code",
   "execution_count": 18,
   "source": [
    "def remove_html_tags(text):\n",
    "    text = BeautifulSoup(text, 'html.parser').get_text()\n",
    "    \n",
    "    return text\n",
    "\n",
    "\n",
    "def clean_text(text):\n",
    "    text = text.lower()\n",
    "    text = remove_html_tags(text)\n",
    "    \n",
    "    return text"
   ],
   "outputs": [],
   "metadata": {}
  },
  {
   "cell_type": "markdown",
   "source": [
    "Using the `clean_text` function, we'll clean up all the documents."
   ],
   "metadata": {}
  },
  {
   "cell_type": "code",
   "execution_count": 19,
   "source": [
    "for ticker, ten_ks in ten_ks_by_ticker.items():\n",
    "    for ten_k in tqdm(ten_ks, desc='Cleaning {} 10-Ks'.format(ticker), unit='10-K'):\n",
    "        ten_k['file_clean'] = clean_text(ten_k['file'])\n",
    "\n",
    "\n",
    "project_helper.print_ten_k_data(ten_ks_by_ticker[example_ticker][:5], ['file_clean'])"
   ],
   "outputs": [
    {
     "output_type": "stream",
     "name": "stderr",
     "text": [
      "Cleaning AMZN 10-Ks: 100%|██████████| 17/17 [00:15<00:00,  1.1010-K/s]\n",
      "Cleaning BMY 10-Ks: 100%|██████████| 23/23 [00:31<00:00,  1.36s/10-K]\n",
      "Cleaning CNP 10-Ks: 100%|██████████| 15/15 [00:24<00:00,  1.61s/10-K]\n",
      "Cleaning CVX 10-Ks: 100%|██████████| 21/21 [00:57<00:00,  2.76s/10-K]\n",
      "Cleaning FL 10-Ks: 100%|██████████| 16/16 [00:10<00:00,  1.5210-K/s]\n",
      "Cleaning FRT 10-Ks: 100%|██████████| 19/19 [00:23<00:00,  1.22s/10-K]\n",
      "Cleaning HON 10-Ks: 100%|██████████| 19/19 [00:25<00:00,  1.32s/10-K]"
     ]
    },
    {
     "output_type": "stream",
     "name": "stdout",
     "text": [
      "[\n",
      "  {\n",
      "    file_clean: '\\n10-k\\n1\\namzn-20161231x10k.htm\\nform 10-k\\n\\n\\n...},\n",
      "  {\n",
      "    file_clean: '\\n10-k\\n1\\namzn-20151231x10k.htm\\nform 10-k\\n\\n\\n...},\n",
      "  {\n",
      "    file_clean: '\\n10-k\\n1\\namzn-20141231x10k.htm\\nform 10-k\\n\\n\\n...},\n",
      "  {\n",
      "    file_clean: '\\n10-k\\n1\\namzn-20131231x10k.htm\\nform 10-k\\n\\n\\n...},\n",
      "  {\n",
      "    file_clean: '\\n10-k\\n1\\nd445434d10k.htm\\nform 10-k\\n\\n\\nform 1...},\n",
      "]\n"
     ]
    },
    {
     "output_type": "stream",
     "name": "stderr",
     "text": [
      "\n"
     ]
    }
   ],
   "metadata": {}
  },
  {
   "cell_type": "markdown",
   "source": [
    "### Lemmatize\n",
    "With the text cleaned up, it's time to distill the verbs down. Implement the `lemmatize_words` function to lemmatize verbs in the list of words provided."
   ],
   "metadata": {}
  },
  {
   "cell_type": "code",
   "execution_count": 20,
   "source": [
    "from nltk.stem import WordNetLemmatizer\n",
    "from nltk.corpus import wordnet\n",
    "\n",
    "\n",
    "def lemmatize_words(words):\n",
    "    \"\"\"\n",
    "    Lemmatize words \n",
    "\n",
    "    Parameters\n",
    "    ----------\n",
    "    words : list of str\n",
    "        List of words\n",
    "\n",
    "    Returns\n",
    "    -------\n",
    "    lemmatized_words : list of str\n",
    "        List of lemmatized words\n",
    "    \"\"\"\n",
    "    \n",
    "    # TODO: Implement\n",
    "    lemmatized_words = [WordNetLemmatizer().lemmatize(word, pos='v') for word in words]\n",
    "    return lemmatized_words\n",
    "\n",
    "\n",
    "project_tests.test_lemmatize_words(lemmatize_words)"
   ],
   "outputs": [
    {
     "output_type": "stream",
     "name": "stdout",
     "text": [
      "Tests Passed\n"
     ]
    }
   ],
   "metadata": {}
  },
  {
   "cell_type": "markdown",
   "source": [
    "With the `lemmatize_words` function implemented, let's lemmatize all the data."
   ],
   "metadata": {}
  },
  {
   "cell_type": "code",
   "execution_count": 21,
   "source": [
    "word_pattern = re.compile('\\w+')\n",
    "\n",
    "for ticker, ten_ks in ten_ks_by_ticker.items():\n",
    "    for ten_k in tqdm(ten_ks, desc='Lemmatize {} 10-Ks'.format(ticker), unit='10-K'):\n",
    "        ten_k['file_lemma'] = lemmatize_words(word_pattern.findall(ten_k['file_clean']))\n",
    "\n",
    "\n",
    "project_helper.print_ten_k_data(ten_ks_by_ticker[example_ticker][:5], ['file_lemma'])"
   ],
   "outputs": [
    {
     "output_type": "stream",
     "name": "stderr",
     "text": [
      "Lemmatize AMZN 10-Ks: 100%|██████████| 17/17 [00:01<00:00,  9.3510-K/s]\n",
      "Lemmatize BMY 10-Ks: 100%|██████████| 23/23 [00:03<00:00,  5.8810-K/s]\n",
      "Lemmatize CNP 10-Ks: 100%|██████████| 15/15 [00:03<00:00,  4.6610-K/s]\n",
      "Lemmatize CVX 10-Ks: 100%|██████████| 21/21 [00:03<00:00,  5.6310-K/s]\n",
      "Lemmatize FL 10-Ks: 100%|██████████| 16/16 [00:01<00:00, 10.6510-K/s]\n",
      "Lemmatize FRT 10-Ks: 100%|██████████| 19/19 [00:02<00:00,  7.9710-K/s]\n",
      "Lemmatize HON 10-Ks: 100%|██████████| 19/19 [00:02<00:00,  9.0910-K/s]"
     ]
    },
    {
     "output_type": "stream",
     "name": "stdout",
     "text": [
      "[\n",
      "  {\n",
      "    file_lemma: '['10', 'k', '1', 'amzn', '20161231x10k', 'htm', '...},\n",
      "  {\n",
      "    file_lemma: '['10', 'k', '1', 'amzn', '20151231x10k', 'htm', '...},\n",
      "  {\n",
      "    file_lemma: '['10', 'k', '1', 'amzn', '20141231x10k', 'htm', '...},\n",
      "  {\n",
      "    file_lemma: '['10', 'k', '1', 'amzn', '20131231x10k', 'htm', '...},\n",
      "  {\n",
      "    file_lemma: '['10', 'k', '1', 'd445434d10k', 'htm', 'form', '1...},\n",
      "]\n"
     ]
    },
    {
     "output_type": "stream",
     "name": "stderr",
     "text": [
      "\n"
     ]
    }
   ],
   "metadata": {}
  },
  {
   "cell_type": "markdown",
   "source": [
    "### Remove Stopwords"
   ],
   "metadata": {}
  },
  {
   "cell_type": "code",
   "execution_count": 22,
   "source": [
    "from nltk.corpus import stopwords\n",
    "\n",
    "\n",
    "lemma_english_stopwords = lemmatize_words(stopwords.words('english'))\n",
    "\n",
    "for ticker, ten_ks in ten_ks_by_ticker.items():\n",
    "    for ten_k in tqdm(ten_ks, desc='Remove Stop Words for {} 10-Ks'.format(ticker), unit='10-K'):\n",
    "        ten_k['file_lemma'] = [word for word in ten_k['file_lemma'] if word not in lemma_english_stopwords]\n",
    "\n",
    "\n",
    "print('Stop Words Removed')"
   ],
   "outputs": [
    {
     "output_type": "stream",
     "name": "stderr",
     "text": [
      "Remove Stop Words for AMZN 10-Ks: 100%|██████████| 17/17 [00:00<00:00, 17.6410-K/s]\n",
      "Remove Stop Words for BMY 10-Ks: 100%|██████████| 23/23 [00:02<00:00, 10.7810-K/s]\n",
      "Remove Stop Words for CNP 10-Ks: 100%|██████████| 15/15 [00:01<00:00,  8.4610-K/s]\n",
      "Remove Stop Words for CVX 10-Ks: 100%|██████████| 21/21 [00:02<00:00, 10.0810-K/s]\n",
      "Remove Stop Words for FL 10-Ks: 100%|██████████| 16/16 [00:00<00:00, 19.4010-K/s]\n",
      "Remove Stop Words for FRT 10-Ks: 100%|██████████| 19/19 [00:01<00:00, 14.1410-K/s]\n",
      "Remove Stop Words for HON 10-Ks: 100%|██████████| 19/19 [00:01<00:00, 16.9010-K/s]"
     ]
    },
    {
     "output_type": "stream",
     "name": "stdout",
     "text": [
      "Stop Words Removed\n"
     ]
    },
    {
     "output_type": "stream",
     "name": "stderr",
     "text": [
      "\n"
     ]
    }
   ],
   "metadata": {}
  },
  {
   "cell_type": "markdown",
   "source": [
    "## Analysis on 10ks\n",
    "### Loughran McDonald Sentiment Word Lists\n",
    "We'll be using the Loughran and McDonald sentiment word lists. These word lists cover the following sentiment:\n",
    "- Negative \n",
    "- Positive\n",
    "- Uncertainty\n",
    "- Litigious\n",
    "- Constraining\n",
    "- Superfluous\n",
    "- Modal\n",
    "\n",
    "This will allow us to do the sentiment analysis on the 10-ks. Let's first load these word lists. We'll be looking into a few of these sentiments."
   ],
   "metadata": {}
  },
  {
   "cell_type": "code",
   "execution_count": 23,
   "source": [
    "import os\n",
    "\n",
    "sentiments = ['negative', 'positive', 'uncertainty', 'litigious', 'constraining', 'interesting']\n",
    "\n",
    "#sentiment_df = pd.read_csv(os.path.join('..', '..', 'data', 'project_5_loughran_mcdonald', 'loughran_mcdonald_master_dic_2016.csv'))\n",
    "sentiment_df = pd.read_csv('loughran_mcdonald_master_dic_2016.csv')\n",
    "sentiment_df.columns = [column.lower() for column in sentiment_df.columns] # Lowercase the columns for ease of use\n",
    "\n",
    "# Remove unused information\n",
    "sentiment_df = sentiment_df[sentiments + ['word']]\n",
    "sentiment_df[sentiments] = sentiment_df[sentiments].astype(bool)\n",
    "sentiment_df = sentiment_df[(sentiment_df[sentiments]).any(1)]\n",
    "\n",
    "# Apply the same preprocessing to these words as the 10-k words\n",
    "sentiment_df['word'] = lemmatize_words(sentiment_df['word'].str.lower())\n",
    "sentiment_df = sentiment_df.drop_duplicates('word')\n",
    "\n",
    "sentiment_df.head()"
   ],
   "outputs": [
    {
     "output_type": "execute_result",
     "data": {
      "text/html": [
       "<div>\n",
       "<style scoped>\n",
       "    .dataframe tbody tr th:only-of-type {\n",
       "        vertical-align: middle;\n",
       "    }\n",
       "\n",
       "    .dataframe tbody tr th {\n",
       "        vertical-align: top;\n",
       "    }\n",
       "\n",
       "    .dataframe thead th {\n",
       "        text-align: right;\n",
       "    }\n",
       "</style>\n",
       "<table border=\"1\" class=\"dataframe\">\n",
       "  <thead>\n",
       "    <tr style=\"text-align: right;\">\n",
       "      <th></th>\n",
       "      <th>negative</th>\n",
       "      <th>positive</th>\n",
       "      <th>uncertainty</th>\n",
       "      <th>litigious</th>\n",
       "      <th>constraining</th>\n",
       "      <th>interesting</th>\n",
       "      <th>word</th>\n",
       "    </tr>\n",
       "  </thead>\n",
       "  <tbody>\n",
       "    <tr>\n",
       "      <th>9</th>\n",
       "      <td>True</td>\n",
       "      <td>False</td>\n",
       "      <td>False</td>\n",
       "      <td>False</td>\n",
       "      <td>False</td>\n",
       "      <td>False</td>\n",
       "      <td>abandon</td>\n",
       "    </tr>\n",
       "    <tr>\n",
       "      <th>12</th>\n",
       "      <td>True</td>\n",
       "      <td>False</td>\n",
       "      <td>False</td>\n",
       "      <td>False</td>\n",
       "      <td>False</td>\n",
       "      <td>False</td>\n",
       "      <td>abandonment</td>\n",
       "    </tr>\n",
       "    <tr>\n",
       "      <th>13</th>\n",
       "      <td>True</td>\n",
       "      <td>False</td>\n",
       "      <td>False</td>\n",
       "      <td>False</td>\n",
       "      <td>False</td>\n",
       "      <td>False</td>\n",
       "      <td>abandonments</td>\n",
       "    </tr>\n",
       "    <tr>\n",
       "      <th>51</th>\n",
       "      <td>True</td>\n",
       "      <td>False</td>\n",
       "      <td>False</td>\n",
       "      <td>False</td>\n",
       "      <td>False</td>\n",
       "      <td>False</td>\n",
       "      <td>abdicate</td>\n",
       "    </tr>\n",
       "    <tr>\n",
       "      <th>54</th>\n",
       "      <td>True</td>\n",
       "      <td>False</td>\n",
       "      <td>False</td>\n",
       "      <td>False</td>\n",
       "      <td>False</td>\n",
       "      <td>False</td>\n",
       "      <td>abdication</td>\n",
       "    </tr>\n",
       "  </tbody>\n",
       "</table>\n",
       "</div>"
      ],
      "text/plain": [
       "    negative  positive  uncertainty  litigious  constraining  interesting  \\\n",
       "9       True     False        False      False         False        False   \n",
       "12      True     False        False      False         False        False   \n",
       "13      True     False        False      False         False        False   \n",
       "51      True     False        False      False         False        False   \n",
       "54      True     False        False      False         False        False   \n",
       "\n",
       "            word  \n",
       "9        abandon  \n",
       "12   abandonment  \n",
       "13  abandonments  \n",
       "51      abdicate  \n",
       "54    abdication  "
      ]
     },
     "metadata": {},
     "execution_count": 23
    }
   ],
   "metadata": {}
  },
  {
   "cell_type": "markdown",
   "source": [
    "### Bag of Words\n",
    "using the sentiment word lists, let's generate sentiment bag of words from the 10-k documents. Implement `get_bag_of_words` to generate a bag of words that counts the number of sentiment words in each doc. You can ignore words that are not in `sentiment_words`."
   ],
   "metadata": {}
  },
  {
   "cell_type": "code",
   "execution_count": 24,
   "source": [
    "from collections import defaultdict, Counter\n",
    "from sklearn.feature_extraction.text import CountVectorizer\n",
    "\n",
    "\n",
    "def get_bag_of_words(sentiment_words, docs):\n",
    "    \"\"\"\n",
    "    Generate a bag of words from documents for a certain sentiment\n",
    "\n",
    "    Parameters\n",
    "    ----------\n",
    "    sentiment_words: Pandas Series\n",
    "        Words that signify a certain sentiment\n",
    "    docs : list of str\n",
    "        List of documents used to generate bag of words\n",
    "\n",
    "    Returns\n",
    "    -------\n",
    "    bag_of_words : 2-d Numpy Ndarray of int\n",
    "        Bag of words sentiment for each document\n",
    "        The first dimension is the document.\n",
    "        The second dimension is the word.\n",
    "    \"\"\"\n",
    "    \n",
    "    # TODO: Implement\n",
    "    bag_of_words = CountVectorizer(vocabulary = sentiment_words).fit_transform(docs).toarray()\n",
    "    #print(bag_of_words)\n",
    "    return bag_of_words\n",
    "\n",
    "\n",
    "project_tests.test_get_bag_of_words(get_bag_of_words)"
   ],
   "outputs": [
    {
     "output_type": "stream",
     "name": "stdout",
     "text": [
      "Tests Passed\n"
     ]
    }
   ],
   "metadata": {}
  },
  {
   "cell_type": "markdown",
   "source": [
    "Using the `get_bag_of_words` function, we'll generate a bag of words for all the documents."
   ],
   "metadata": {}
  },
  {
   "cell_type": "code",
   "execution_count": 25,
   "source": [
    "sentiment_bow_ten_ks = {}\n",
    "\n",
    "for ticker, ten_ks in ten_ks_by_ticker.items():\n",
    "    lemma_docs = [' '.join(ten_k['file_lemma']) for ten_k in ten_ks]\n",
    "    \n",
    "    sentiment_bow_ten_ks[ticker] = {\n",
    "        sentiment: get_bag_of_words(sentiment_df[sentiment_df[sentiment]]['word'], lemma_docs)\n",
    "        for sentiment in sentiments}\n",
    "\n",
    "\n",
    "project_helper.print_ten_k_data([sentiment_bow_ten_ks[example_ticker]], sentiments)"
   ],
   "outputs": [
    {
     "output_type": "stream",
     "name": "stdout",
     "text": [
      "[\n",
      "  {\n",
      "    negative: '[[0 0 0 ... 0 0 0]\\n [0 0 0 ... 0 0 0]\\n [0 0 0 ....\n",
      "    positive: '[[16  0  0 ...  0  0  0]\\n [16  0  0 ...  0  0  0...\n",
      "    uncertainty: '[[0 0 0 ... 1 1 3]\\n [0 0 0 ... 1 1 3]\\n [0 0 0 ....\n",
      "    litigious: '[[0 0 0 ... 0 0 0]\\n [0 0 0 ... 0 0 0]\\n [0 0 0 ....\n",
      "    constraining: '[[0 0 0 ... 0 0 2]\\n [0 0 0 ... 0 0 2]\\n [0 0 0 ....\n",
      "    interesting: '[[2 0 0 ... 0 0 0]\\n [2 0 0 ... 0 0 0]\\n [2 0 0 ....},\n",
      "]\n"
     ]
    }
   ],
   "metadata": {}
  },
  {
   "cell_type": "markdown",
   "source": [
    "### Jaccard Similarity\n",
    "Using the bag of words, let's calculate the jaccard similarity on the bag of words and plot it over time. Implement `get_jaccard_similarity` to return the jaccard similarities between each tick in time. Since the input, `bag_of_words_matrix`, is a bag of words for each time period in order, you just need to compute the jaccard similarities for each neighboring bag of words. Make sure to turn the bag of words into a boolean array when calculating the jaccard similarity."
   ],
   "metadata": {}
  },
  {
   "cell_type": "code",
   "execution_count": 43,
   "source": [
    "from sklearn.metrics import jaccard_similarity_score\n",
    "#from sklearn.metrics import jaccard_score\n",
    "\n",
    "def get_jaccard_similarity(bag_of_words_matrix):\n",
    "    \"\"\"\n",
    "    Get jaccard similarities for neighboring documents\n",
    "\n",
    "    Parameters\n",
    "    ----------\n",
    "    bag_of_words : 2-d Numpy Ndarray of int\n",
    "        Bag of words sentiment for each document\n",
    "        The first dimension is the document.\n",
    "        The second dimension is the word.\n",
    "\n",
    "    Returns\n",
    "    -------\n",
    "    jaccard_similarities : list of float\n",
    "        Jaccard similarities for neighboring documents\n",
    "    \"\"\"\n",
    "    \n",
    "    # TODO: Implement\n",
    "    bag_of_words_bool = bag_of_words_matrix.astype(bool)\n",
    "    jaccard_similarities = [jaccard_similarity_score(x, y) for x, y in zip(bag_of_words_bool, bag_of_words_bool[1:])]\n",
    "    return jaccard_similarities\n",
    "\n",
    "\n",
    "project_tests.test_get_jaccard_similarity(get_jaccard_similarity)"
   ],
   "outputs": [
    {
     "output_type": "error",
     "ename": "ImportError",
     "evalue": "cannot import name 'jaccard_similarity_score' from 'sklearn.metrics' (/usr/local/lib/python3.9/site-packages/sklearn/metrics/__init__.py)",
     "traceback": [
      "\u001b[0;31m---------------------------------------------------------------------------\u001b[0m",
      "\u001b[0;31mImportError\u001b[0m                               Traceback (most recent call last)",
      "\u001b[0;32m<ipython-input-43-34bdc8216518>\u001b[0m in \u001b[0;36m<module>\u001b[0;34m\u001b[0m\n\u001b[0;32m----> 1\u001b[0;31m \u001b[0;32mfrom\u001b[0m \u001b[0msklearn\u001b[0m\u001b[0;34m.\u001b[0m\u001b[0mmetrics\u001b[0m \u001b[0;32mimport\u001b[0m \u001b[0mjaccard_similarity_score\u001b[0m\u001b[0;34m\u001b[0m\u001b[0;34m\u001b[0m\u001b[0m\n\u001b[0m\u001b[1;32m      2\u001b[0m \u001b[0;31m#from sklearn.metrics import jaccard_score\u001b[0m\u001b[0;34m\u001b[0m\u001b[0;34m\u001b[0m\u001b[0;34m\u001b[0m\u001b[0m\n\u001b[1;32m      3\u001b[0m \u001b[0;34m\u001b[0m\u001b[0m\n\u001b[1;32m      4\u001b[0m \u001b[0;32mdef\u001b[0m \u001b[0mget_jaccard_similarity\u001b[0m\u001b[0;34m(\u001b[0m\u001b[0mbag_of_words_matrix\u001b[0m\u001b[0;34m)\u001b[0m\u001b[0;34m:\u001b[0m\u001b[0;34m\u001b[0m\u001b[0;34m\u001b[0m\u001b[0m\n\u001b[1;32m      5\u001b[0m     \"\"\"\n",
      "\u001b[0;31mImportError\u001b[0m: cannot import name 'jaccard_similarity_score' from 'sklearn.metrics' (/usr/local/lib/python3.9/site-packages/sklearn/metrics/__init__.py)"
     ]
    }
   ],
   "metadata": {}
  },
  {
   "cell_type": "markdown",
   "source": [
    "Using the `get_jaccard_similarity` function, let's plot the similarities over time."
   ],
   "metadata": {}
  },
  {
   "cell_type": "code",
   "execution_count": null,
   "source": [
    "# Get dates for the universe\n",
    "file_dates = {\n",
    "    ticker: [ten_k['file_date'] for ten_k in ten_ks]\n",
    "    for ticker, ten_ks in ten_ks_by_ticker.items()}  \n",
    "\n",
    "jaccard_similarities = {\n",
    "    ticker: {\n",
    "        sentiment_name: get_jaccard_similarity(sentiment_values)\n",
    "        for sentiment_name, sentiment_values in ten_k_sentiments.items()}\n",
    "    for ticker, ten_k_sentiments in sentiment_bow_ten_ks.items()}\n",
    "\n",
    "\n",
    "project_helper.plot_similarities(\n",
    "    [jaccard_similarities[example_ticker][sentiment] for sentiment in sentiments],\n",
    "    file_dates[example_ticker][1:],\n",
    "    'Jaccard Similarities for {} Sentiment'.format(example_ticker),\n",
    "    sentiments)"
   ],
   "outputs": [],
   "metadata": {}
  },
  {
   "cell_type": "markdown",
   "source": [
    "### TFIDF\n",
    "using the sentiment word lists, let's generate sentiment TFIDF from the 10-k documents. Implement `get_tfidf` to generate TFIDF from each document, using sentiment words as the terms. You can ignore words that are not in `sentiment_words`."
   ],
   "metadata": {}
  },
  {
   "cell_type": "code",
   "execution_count": 31,
   "source": [
    "from sklearn.feature_extraction.text import TfidfVectorizer\n",
    "\n",
    "\n",
    "def get_tfidf(sentiment_words, docs):\n",
    "    \"\"\"\n",
    "    Generate TFIDF values from documents for a certain sentiment\n",
    "\n",
    "    Parameters\n",
    "    ----------\n",
    "    sentiment_words: Pandas Series\n",
    "        Words that signify a certain sentiment\n",
    "    docs : list of str\n",
    "        List of documents used to generate bag of words\n",
    "\n",
    "    Returns\n",
    "    -------\n",
    "    tfidf : 2-d Numpy Ndarray of float\n",
    "        TFIDF sentiment for each document\n",
    "        The first dimension is the document.\n",
    "        The second dimension is the word.\n",
    "    \"\"\"\n",
    "    \n",
    "    # TODO: Implement\n",
    "\n",
    "    tfidf = TfidfVectorizer(vocabulary = sentiment_words).fit_transform(docs).toarray()\n",
    "    \n",
    "    return tfidf\n",
    "\n",
    "\n",
    "\n",
    "project_tests.test_get_tfidf(get_tfidf)"
   ],
   "outputs": [
    {
     "output_type": "stream",
     "name": "stdout",
     "text": [
      "Tests Passed\n"
     ]
    }
   ],
   "metadata": {}
  },
  {
   "cell_type": "markdown",
   "source": [
    "Using the `get_tfidf` function, let's generate the TFIDF values for all the documents."
   ],
   "metadata": {}
  },
  {
   "cell_type": "code",
   "execution_count": null,
   "source": [
    "sentiment_tfidf_ten_ks = {}\n",
    "\n",
    "for ticker, ten_ks in ten_ks_by_ticker.items():\n",
    "    lemma_docs = [' '.join(ten_k['file_lemma']) for ten_k in ten_ks]\n",
    "    \n",
    "    sentiment_tfidf_ten_ks[ticker] = {\n",
    "        sentiment: get_tfidf(sentiment_df[sentiment_df[sentiment]]['word'], lemma_docs)\n",
    "        for sentiment in sentiments}\n",
    "\n",
    "    \n",
    "project_helper.print_ten_k_data([sentiment_tfidf_ten_ks[example_ticker]], sentiments)"
   ],
   "outputs": [],
   "metadata": {}
  },
  {
   "cell_type": "markdown",
   "source": [
    "### Cosine Similarity\n",
    "Using the TFIDF values, we'll calculate the cosine similarity and plot it over time. Implement `get_cosine_similarity` to return the cosine similarities between each tick in time. Since the input, `tfidf_matrix`, is a TFIDF vector for each time period in order, you just need to computer the cosine similarities for each neighboring vector."
   ],
   "metadata": {}
  },
  {
   "cell_type": "code",
   "execution_count": 35,
   "source": [
    "from sklearn.metrics.pairwise import cosine_similarity\n",
    "\n",
    "\n",
    "def get_cosine_similarity(tfidf_matrix):\n",
    "    \"\"\"\n",
    "    Get cosine similarities for each neighboring TFIDF vector/document\n",
    "\n",
    "    Parameters\n",
    "    ----------\n",
    "    tfidf : 2-d Numpy Ndarray of float\n",
    "        TFIDF sentiment for each document\n",
    "        The first dimension is the document.\n",
    "        The second dimension is the word.\n",
    "\n",
    "    Returns\n",
    "    -------\n",
    "    cosine_similarities : list of float\n",
    "        Cosine similarities for neighboring documents\n",
    "    \"\"\"\n",
    "    \n",
    "    # TODO: Implement\n",
    "    cosine_similarities = cosine_similarity(tfidf_matrix[0: ], tfidf_matrix[1: ])[0]\n",
    "    \n",
    "    return cosine_similarities.tolist()\n",
    "\n",
    "\n",
    "project_tests.test_get_cosine_similarity(get_cosine_similarity)"
   ],
   "outputs": [
    {
     "output_type": "stream",
     "name": "stdout",
     "text": [
      "Tests Passed\n"
     ]
    }
   ],
   "metadata": {}
  },
  {
   "cell_type": "markdown",
   "source": [
    "Let's plot the cosine similarities over time."
   ],
   "metadata": {}
  },
  {
   "cell_type": "code",
   "execution_count": null,
   "source": [
    "cosine_similarities = {\n",
    "    ticker: {\n",
    "        sentiment_name: get_cosine_similarity(sentiment_values)\n",
    "        for sentiment_name, sentiment_values in ten_k_sentiments.items()}\n",
    "    for ticker, ten_k_sentiments in sentiment_tfidf_ten_ks.items()}\n",
    "\n",
    "\n",
    "project_helper.plot_similarities(\n",
    "    [cosine_similarities[example_ticker][sentiment] for sentiment in sentiments],\n",
    "    file_dates[example_ticker][1:],\n",
    "    'Cosine Similarities for {} Sentiment'.format(example_ticker),\n",
    "    sentiments)"
   ],
   "outputs": [],
   "metadata": {}
  },
  {
   "cell_type": "markdown",
   "source": [],
   "metadata": {}
  },
  {
   "cell_type": "markdown",
   "source": [
    "## Evaluate Alpha Factors\n",
    "Just like we did in project 4, let's evaluate the alpha factors. For this section, we'll just be looking at the cosine similarities, but it can be applied to the jaccard similarities as well.\n",
    "### Price Data\n",
    "Let's get yearly pricing to run the factor against, since 10-Ks are produced annually."
   ],
   "metadata": {}
  },
  {
   "cell_type": "code",
   "execution_count": null,
   "source": [
    "pricing = pd.read_csv('../../data/project_5_yr/yr-quotemedia.csv', parse_dates=['date'])\n",
    "pricing = pricing.pivot(index='date', columns='ticker', values='adj_close')\n",
    "\n",
    "\n",
    "pricing"
   ],
   "outputs": [],
   "metadata": {}
  },
  {
   "cell_type": "markdown",
   "source": [
    "### Dict to DataFrame\n",
    "The alphalens library uses dataframes, so we we'll need to turn our dictionary into a dataframe. "
   ],
   "metadata": {}
  },
  {
   "cell_type": "code",
   "execution_count": null,
   "source": [
    "cosine_similarities_df_dict = {'date': [], 'ticker': [], 'sentiment': [], 'value': []}\n",
    "\n",
    "\n",
    "for ticker, ten_k_sentiments in cosine_similarities.items():\n",
    "    for sentiment_name, sentiment_values in ten_k_sentiments.items():\n",
    "        for sentiment_values, sentiment_value in enumerate(sentiment_values):\n",
    "            cosine_similarities_df_dict['ticker'].append(ticker)\n",
    "            cosine_similarities_df_dict['sentiment'].append(sentiment_name)\n",
    "            cosine_similarities_df_dict['value'].append(sentiment_value)\n",
    "            cosine_similarities_df_dict['date'].append(file_dates[ticker][1:][sentiment_values])\n",
    "\n",
    "cosine_similarities_df = pd.DataFrame(cosine_similarities_df_dict)\n",
    "cosine_similarities_df['date'] = pd.DatetimeIndex(cosine_similarities_df['date']).year\n",
    "cosine_similarities_df['date'] = pd.to_datetime(cosine_similarities_df['date'], format='%Y')\n",
    "\n",
    "\n",
    "cosine_similarities_df.head()"
   ],
   "outputs": [],
   "metadata": {}
  },
  {
   "cell_type": "markdown",
   "source": [
    "### Alphalens Format\n",
    "In order to use a lot of the alphalens functions, we need to aligned the indices and convert the time to unix timestamp. In this next cell, we'll do just that."
   ],
   "metadata": {}
  },
  {
   "cell_type": "code",
   "execution_count": null,
   "source": [
    "import alphalens as al\n",
    "\n",
    "\n",
    "factor_data = {}\n",
    "skipped_sentiments = []\n",
    "\n",
    "for sentiment in sentiments:\n",
    "    cs_df = cosine_similarities_df[(cosine_similarities_df['sentiment'] == sentiment)]\n",
    "    cs_df = cs_df.pivot(index='date', columns='ticker', values='value')\n",
    "\n",
    "    try:\n",
    "        data = al.utils.get_clean_factor_and_forward_returns(cs_df.stack(), pricing, quantiles=5, bins=None, periods=[1])\n",
    "        factor_data[sentiment] = data\n",
    "    except:\n",
    "        skipped_sentiments.append(sentiment)\n",
    "\n",
    "if skipped_sentiments:\n",
    "    print('\\nSkipped the following sentiments:\\n{}'.format('\\n'.join(skipped_sentiments)))\n",
    "factor_data[sentiments[0]].head()"
   ],
   "outputs": [],
   "metadata": {}
  },
  {
   "cell_type": "markdown",
   "source": [
    "### Alphalens Format with Unix Time\n",
    "Alphalen's `factor_rank_autocorrelation` and `mean_return_by_quantile` functions require unix timestamps to work, so we'll also create factor dataframes with unix time."
   ],
   "metadata": {}
  },
  {
   "cell_type": "code",
   "execution_count": null,
   "source": [
    "unixt_factor_data = {\n",
    "    factor: data.set_index(pd.MultiIndex.from_tuples(\n",
    "        [(x.timestamp(), y) for x, y in data.index.values],\n",
    "        names=['date', 'asset']))\n",
    "    for factor, data in factor_data.items()}"
   ],
   "outputs": [],
   "metadata": {}
  },
  {
   "cell_type": "markdown",
   "source": [
    "### Factor Returns\n",
    "Let's view the factor returns over time. We should be seeing it generally move up and to the right."
   ],
   "metadata": {}
  },
  {
   "cell_type": "code",
   "execution_count": null,
   "source": [
    "ls_factor_returns = pd.DataFrame()\n",
    "\n",
    "for factor_name, data in factor_data.items():\n",
    "    ls_factor_returns[factor_name] = al.performance.factor_returns(data).iloc[:, 0]\n",
    "\n",
    "(1 + ls_factor_returns).cumprod().plot()"
   ],
   "outputs": [],
   "metadata": {}
  },
  {
   "cell_type": "markdown",
   "source": [
    "### Basis Points Per Day per Quantile\n",
    "It is not enough to look just at the factor weighted return. A good alpha is also monotonic in quantiles. Let's looks the basis points for the factor returns."
   ],
   "metadata": {}
  },
  {
   "cell_type": "code",
   "execution_count": null,
   "source": [
    "qr_factor_returns = pd.DataFrame()\n",
    "\n",
    "for factor_name, data in unixt_factor_data.items():\n",
    "    qr_factor_returns[factor_name] = al.performance.mean_return_by_quantile(data)[0].iloc[:, 0]\n",
    "\n",
    "(10000*qr_factor_returns).plot.bar(\n",
    "    subplots=True,\n",
    "    sharey=True,\n",
    "    layout=(5,3),\n",
    "    figsize=(14, 14),\n",
    "    legend=False)"
   ],
   "outputs": [],
   "metadata": {}
  },
  {
   "cell_type": "markdown",
   "source": [
    "### Turnover Analysis\n",
    "Without doing a full and formal backtest, we can analyze how stable the alphas are over time. Stability in this sense means that from period to period, the alpha ranks do not change much. Since trading is costly, we always prefer, all other things being equal, that the ranks do not change significantly per period. We can measure this with the **Factor Rank Autocorrelation (FRA)**."
   ],
   "metadata": {}
  },
  {
   "cell_type": "code",
   "execution_count": null,
   "source": [
    "ls_FRA = pd.DataFrame()\n",
    "\n",
    "for factor, data in unixt_factor_data.items():\n",
    "    ls_FRA[factor] = al.performance.factor_rank_autocorrelation(data)\n",
    "\n",
    "ls_FRA.plot(title=\"Factor Rank Autocorrelation\")"
   ],
   "outputs": [],
   "metadata": {}
  },
  {
   "cell_type": "markdown",
   "source": [
    "### Sharpe Ratio of the Alphas\n",
    "The last analysis we'll do on the factors will be sharpe ratio. Let's see what the sharpe ratio for the factors are. Generally, a Sharpe Ratio of near 1.0 or higher is an acceptable single alpha for this universe."
   ],
   "metadata": {}
  },
  {
   "cell_type": "code",
   "execution_count": null,
   "source": [
    "daily_annualization_factor = np.sqrt(252)\n",
    "\n",
    "(daily_annualization_factor * ls_factor_returns.mean() / ls_factor_returns.std()).round(2)"
   ],
   "outputs": [],
   "metadata": {}
  },
  {
   "cell_type": "markdown",
   "source": [
    "That's it! You've successfully done sentiment analysis on 10-ks!\n",
    "## Submission\n",
    "Now that you're done with the project, it's time to submit it. Click the submit button in the bottom right. One of our reviewers will give you feedback on your project with a pass or not passed grade. You can continue to the next section while you wait for feedback."
   ],
   "metadata": {}
  }
 ],
 "metadata": {
  "kernelspec": {
   "name": "python3",
   "display_name": "Python 3.9.5 64-bit"
  },
  "language_info": {
   "codemirror_mode": {
    "name": "ipython",
    "version": 3
   },
   "file_extension": ".py",
   "mimetype": "text/x-python",
   "name": "python",
   "nbconvert_exporter": "python",
   "pygments_lexer": "ipython3",
   "version": "3.9.5"
  },
  "interpreter": {
   "hash": "aee8b7b246df8f9039afb4144a1f6fd8d2ca17a180786b69acc140d282b71a49"
  }
 },
 "nbformat": 4,
 "nbformat_minor": 2
}